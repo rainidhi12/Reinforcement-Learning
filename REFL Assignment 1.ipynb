{
 "cells": [
  {
   "cell_type": "code",
   "execution_count": 1,
   "id": "2ecb6eb5",
   "metadata": {},
   "outputs": [],
   "source": [
    "import matplotlib.pyplot as plt\n",
    "from math import exp, cos, sin, pi\n",
    "from numpy import dot\n",
    "import numpy as np\n",
    "from tqdm import tqdm"
   ]
  },
  {
   "cell_type": "code",
   "execution_count": 12,
   "id": "3e23f205",
   "metadata": {},
   "outputs": [],
   "source": [
    "import numpy as np\n",
    "\n",
    "class GridWorld:\n",
    "    def __init__(self):\n",
    "        # State space (excluding (2,2) and (3,2))\n",
    "        self.states = [(i, j) for i in range(5) for j in range(5) if not ((i == 2 and j == 2) or (i == 3 and j == 2))]\n",
    "        \n",
    "        # Actions: up, down, left, right, stay\n",
    "        self.actions = {'u': (-1, 0), 'd': (1, 0), 'l': (0, -1), 'r': (0, 1), 's': (0, 0)}\n",
    "        \n",
    "        # Initial state\n",
    "        self.state = (0, 0)\n",
    "        \n",
    "        # Decay parameter\n",
    "        self.gamma = 0.9\n",
    "        \n",
    "        # Reward\n",
    "        self.reward = 0\n",
    "        \n",
    "    def get_new_state(self, action):\n",
    "        old_state = self.state\n",
    "        \n",
    "        # Sample action according to probabilities\n",
    "        if action in ['u', 'd']:\n",
    "            action = np.random.choice([action, 'l', 'r', 's'], 1, [0.8, 0.05, 0.05, 0.1])[0]\n",
    "        elif action in ['l', 'r']:\n",
    "            action = np.random.choice([action, 'u', 'd', 's'], 1, [0.8, 0.05, 0.05, 0.1])[0]\n",
    "        \n",
    "        action = self.actions[action]\n",
    "        candidate_state = tuple(map(sum, zip(self.state, action)))\n",
    "        \n",
    "        if candidate_state not in self.states:\n",
    "            self.reward = 0\n",
    "            return\n",
    "        \n",
    "        self.state = candidate_state\n",
    "        \n",
    "        if self.state == (4, 2):\n",
    "            self.reward = -10\n",
    "        elif self.state == (4, 4):\n",
    "            self.reward = 10\n",
    "        else:\n",
    "            self.reward = 0\n",
    "        \n",
    "        return\n",
    "    \n",
    "states = [(i, j) for i in range(5) for j in range(5)]\n",
    "state_to_index = dict([(tup, 5 * tup[0] + tup[1]) for tup in states])\n",
    "index_to_state = dict([(state_to_index[i], i) for i in state_to_index])\n",
    "lookup = dict([(i, state_to_index[i]) for i in state_to_index] + [(j, index_to_state[j]) for j in index_to_state])\n",
    "\n",
    "def softmax(x):\n",
    "    \"\"\"Compute softmax values for each set of scores in x.\"\"\"\n",
    "    return np.exp(x) / np.sum(np.exp(x), axis=0)\n",
    "\n",
    "action_lookup = {0: 'u', 1: 'd', 2: 'l', 3: 'r'}\n",
    "\n",
    "def evaluate_policy(theta, total_episodes):\n",
    "    policy = np.reshape(theta, (25, 4))\n",
    "    G_list = []\n",
    "    \n",
    "    for _ in range(total_episodes):\n",
    "        agent = GridWorld()\n",
    "        state = agent.state\n",
    "        moves = 0\n",
    "        terminal = False\n",
    "        G = 0\n",
    "        \n",
    "        while not terminal:\n",
    "            state_idx = lookup[state]\n",
    "            probs = softmax(policy[state_idx])\n",
    "            action = np.argmax(probs)\n",
    "            action = action_lookup[action]\n",
    "            \n",
    "            agent.get_new_state(action)\n",
    "            G = agent.reward + agent.gamma * G\n",
    "            state = agent.state\n",
    "            moves += 1\n",
    "            \n",
    "            if state == (4, 4):\n",
    "                terminal = True\n",
    "                \n",
    "            if moves > 10000:\n",
    "                break\n",
    "            \n",
    "        G_list.append(G)\n",
    "    \n",
    "    return np.mean(G_list), np.std(G_list)\n",
    "\n",
    "\n"
   ]
  },
  {
   "cell_type": "code",
   "execution_count": 13,
   "id": "7ce01e7d",
   "metadata": {},
   "outputs": [
    {
     "name": "stdout",
     "output_type": "stream",
     "text": [
      "300 cand: 7.346681623329842 best: 10.00.0\r"
     ]
    }
   ],
   "source": [
    "N = 50\n",
    "SIGMA = 1\n",
    "\n",
    "theta = np.random.normal(0, SIGMA, 25 * 4)\n",
    "policy = np.reshape(theta, (25, 4))\n",
    "G_list = []\n",
    "\n",
    "for i in range(300):\n",
    "    G = evaluate_policy(theta, N)\n",
    "    cand_theta = np.random.normal(theta, SIGMA)\n",
    "    cand_G = evaluate_policy(cand_theta, N)\n",
    "    \n",
    "    print(f'{i+1} cand: {cand_G[0]} best: {G[0]}', end='\\r')\n",
    "    \n",
    "    if cand_G[0] > G[0]:\n",
    "        theta = cand_theta.copy()\n",
    "        G = cand_G\n",
    "    \n",
    "    G_list.append(cand_G)\n",
    "\n",
    "trial = [j + 1 for j in range(len(G_list))]\n",
    "mean = [tup[0] for tup in G_list]\n",
    "std = [tup[1] for tup in G_list]\n"
   ]
  },
  {
   "cell_type": "code",
   "execution_count": 14,
   "id": "486de73f",
   "metadata": {},
   "outputs": [
    {
     "data": {
      "image/png": "[encoded data removed]",
      "text/plain": [
       "<Figure size 720x360 with 1 Axes>"
      ]
     },
     "metadata": {
      "needs_background": "light"
     },
     "output_type": "display_data"
    }
   ],
   "source": [
    "fig = plt.figure(figsize=(10, 5))\n",
    "plt.errorbar(x=trial, y=mean, yerr=std, fmt='o')\n",
    "plt.show()"
   ]
  },
  {
   "cell_type": "code",
   "execution_count": 5,
   "id": "69d3b246",
   "metadata": {},
   "outputs": [
    {
     "data": {
      "text/plain": [
       "array([['l', 'r', 'd', 'd', 'l'],\n",
       "       ['l', 'l', 'd', 'u', 'd'],\n",
       "       ['l', 'r', '_', 'l', 'd'],\n",
       "       ['d', 'u', '_', 'd', 'l'],\n",
       "       ['l', 'u', 'd', 'r', '_']], dtype='<U1')"
      ]
     },
     "execution_count": 5,
     "metadata": {},
     "output_type": "execute_result"
    }
   ],
   "source": [
    "policy = np.reshape(theta, (25, 4))\n",
    "policy_actions = [action_lookup[np.argmax(softmax(policy[i]))] for i in range(25)]\n",
    "\n",
    "table = np.array(['a' for _ in range(25)])\n",
    "table = np.reshape(table, (5, 5))\n",
    "\n",
    "for i in range(25):\n",
    "    tup = lookup[i]\n",
    "    table[tup] = policy_actions[i]\n",
    "\n",
    "table[2, 2], table[3, 2], table[4, 4] = '_', '_', '_'\n",
    "policy = np.reshape(theta, (25, 4))\n",
    "table\n"
   ]
  },
  {
   "cell_type": "code",
   "execution_count": 6,
   "id": "de6f1311",
   "metadata": {},
   "outputs": [
    {
     "data": {
      "text/plain": [
       "[['r', 'd', 'r', 'd', 'd'],\n",
       " ['r', 'r', 'r', 'd', 'd'],\n",
       " ['r', 'u', '_', 'd', 'd'],\n",
       " ['u', 'u', '_', 'r', 'd'],\n",
       " ['u', 'u', 'r', 'r', '_']]"
      ]
     },
     "execution_count": 6,
     "metadata": {},
     "output_type": "execute_result"
    }
   ],
   "source": [
    "state_set = [(i,j) for i in range(5) for j in range(5) if not ((i==2 and j==2) or (i==3 and j==2))]\n",
    "\n",
    "action_map = {'up': (-1,0), 'down': (1,0), 'left': (0,-1), 'right': (0,1), 'stay': (0,0)}\n",
    "\n",
    "gamma = 0.9\n",
    "\n",
    "values = np.random.normal(0, 1, (5,5))\n",
    "action = np.zeros((5,5))\n",
    "\n",
    "def reward(state):\n",
    "    if state == (4,2):\n",
    "        return -10\n",
    "    elif state == (4,4):\n",
    "        return 10\n",
    "    else:\n",
    "        return 0\n",
    "    \n",
    "def is_legal(state, action):\n",
    "    candState = tuple(map(sum, zip(state, action)))\n",
    "    return candState in state_set\n",
    "\n",
    "def summation(state, action):\n",
    "    output = 0\n",
    "    \n",
    "    if state == (4,4):\n",
    "        return output\n",
    "    \n",
    "    if action in ['up', 'down']:\n",
    "        weight = {action: 0.8, 'left': 0.05, 'right': 0.05, 'stay': 0.1}\n",
    "    elif action in ['left', 'right']:\n",
    "        weight = {action: 0.8, 'up': 0.05, 'down': 0.05, 'stay': 0.1}\n",
    "        \n",
    "    for a in weight:\n",
    "        a_tup = action_map[a]\n",
    "        candState = tuple(map(sum, zip(state, a_tup)))\n",
    "        if candState in state_set:\n",
    "            output += weight[a] * (reward(candState) + gamma * values[candState])\n",
    "            \n",
    "    return output\n",
    "\n",
    "for _ in range(1000):\n",
    "    for state in state_set:\n",
    "        all_actions = [summation(state, a) for a in ['up', 'down', 'left', 'right']]\n",
    "        action[state] = np.argmax(all_actions)\n",
    "        values[state] = max(all_actions)\n",
    "\n",
    "action2 = [['_' for _ in range(5)] for _ in range(5)]\n",
    "actions = ['u', 'd', 'l', 'r']\n",
    "\n",
    "for state in state_set:\n",
    "    i, j = state[0], state[1]\n",
    "    action2[i][j] = actions[int(action[i,j])]\n",
    "    \n",
    "action2[4][4] = '_'\n",
    "action2\n"
   ]
  },
  {
   "cell_type": "code",
   "execution_count": 7,
   "id": "664f2159",
   "metadata": {},
   "outputs": [
    {
     "name": "stdout",
     "output_type": "stream",
     "text": [
      "300) cand: 380 best: 380\r"
     ]
    },
    {
     "data": {
      "image/png": "[encoded data removed]",
      "text/plain": [
       "<Figure size 720x360 with 1 Axes>"
      ]
     },
     "metadata": {
      "needs_background": "light"
     },
     "output_type": "display_data"
    }
   ],
   "source": [
    "g = 9.8\n",
    "mp = 0.1\n",
    "mc = 10.0\n",
    "l = 1.0\n",
    "\n",
    "def sigmoid(par, vec):\n",
    "    return 1 / (1 + exp(-1 * np.dot(par, vec)))\n",
    "\n",
    "def validate(val, type):\n",
    "    if type == 'x_dot':\n",
    "        if val <= -10:\n",
    "            return -10\n",
    "        elif val >= 10:\n",
    "            return 10\n",
    "        else:\n",
    "            return val\n",
    "    elif type == 'theta_dot':\n",
    "        if val <= -1 * pi:\n",
    "            return -1 * pi\n",
    "        elif val >= pi:\n",
    "            return pi\n",
    "        else:\n",
    "            return val\n",
    "\n",
    "class CartPole:\n",
    "    def __init__(self):\n",
    "        self.x = 0\n",
    "        self.x_dot = 0\n",
    "        self.theta = 0\n",
    "        self.theta_dot = 0\n",
    "        self.t = 0\n",
    "        \n",
    "    def get_current_state(self):\n",
    "        return np.array([self.x, self.x_dot, self.theta, self.theta_dot, self.t])\n",
    "    \n",
    "    def get_new_state(self, F):\n",
    "        x, x_dot, theta, theta_dot, t = self.x, self.x_dot, self.theta, self.theta_dot, self.t\n",
    "        \n",
    "        expr1 = (-1 * F - mp * l * (theta_dot ** 2) * sin(theta))\n",
    "        theta_doubledot = (g * sin(theta) + cos(theta) * expr1) / (l * (4 / 3 - mp * (cos(theta) ** 2) / (mc + mp)))\n",
    "        \n",
    "        x_doubledot = (F + mp * l * ((theta_dot ** 2) * sin(theta) - theta_doubledot * cos(theta))) / (mc + mp)\n",
    "        \n",
    "        self.theta_dot = validate(theta_dot + 0.02 * theta_doubledot, 'theta_dot')\n",
    "        self.x_dot = validate(x_dot + 0.02 * x_doubledot, 'x_dot')\n",
    "        \n",
    "        self.theta = self.theta + 0.02 * self.theta_dot\n",
    "        self.x = x + 0.02 * self.x_dot\n",
    "        self.t = t + 0.02\n",
    "        \n",
    "        return\n",
    "    \n",
    "    def get_action(self, par):\n",
    "        prob_right = sigmoid(par, self.get_current_state())\n",
    "        \n",
    "        if prob_right > 0.5:\n",
    "            return 10\n",
    "        else:\n",
    "            return -10\n",
    "\n",
    "    def is_legal(self):\n",
    "        if self.x <= -3 or self.x >= 3:\n",
    "            return False\n",
    "        elif self.theta <= -5 * pi / 12 or self.theta >= 5 * pi / 12:\n",
    "            return False\n",
    "        elif self.t >= 20:\n",
    "            return False\n",
    "        return True\n",
    "\n",
    "def evaluate_policy(par, tot_eps):\n",
    "    cart = CartPole()\n",
    "    reward = 0\n",
    "    while cart.is_legal():\n",
    "        f = cart.get_action(par=par)\n",
    "        cart.get_new_state(f)\n",
    "        reward += 1\n",
    "    return (reward, 0)\n",
    "\n",
    "N = 50\n",
    "SIGMA = 1\n",
    "\n",
    "param = np.random.normal(0, SIGMA, 5)\n",
    "G_list = []\n",
    "G = evaluate_policy(param, N)\n",
    "\n",
    "for i in range(300):\n",
    "    SIGMA *= 1 / (1 + 0.001 * i)\n",
    "    cand_param = np.random.normal(param, SIGMA)\n",
    "    cand_G = evaluate_policy(cand_param, N)\n",
    "    if cand_G[0] > G[0]:\n",
    "        param = cand_param.copy()\n",
    "        G = cand_G\n",
    "    print(f'{i+1}) cand: {cand_G[0]} best: {G[0]}', end='\\r')\n",
    "    G_list.append(cand_G)\n",
    "\n",
    "trial = [j + 1 for j in range(len(G_list))]\n",
    "mean = [tup[0] for tup in G_list]\n",
    "std = [tup[1] for tup in G_list]\n",
    "\n",
    "fig = plt.figure(figsize=(10, 5))\n",
    "plt.errorbar(x=trial, y=mean, yerr=std, fmt='o')\n",
    "plt.show()\n"
   ]
  },
  {
   "cell_type": "code",
   "execution_count": 8,
   "id": "2f581359",
   "metadata": {},
   "outputs": [
    {
     "name": "stdout",
     "output_type": "stream",
     "text": [
      "380\n"
     ]
    }
   ],
   "source": [
    "cart = CartPole()\n",
    "reward = 0\n",
    "while cart.is_legal():\n",
    "    f = cart.get_action(par=param)\n",
    "    cart.get_new_state(f)\n",
    "    reward += 1\n",
    "    \n",
    "print(reward)\n"
   ]
  },
  {
   "cell_type": "code",
   "execution_count": 9,
   "id": "95179280",
   "metadata": {},
   "outputs": [
    {
     "data": {
      "text/plain": [
       "True"
      ]
     },
     "execution_count": 9,
     "metadata": {},
     "output_type": "execute_result"
    }
   ],
   "source": [
    "g = 9.8\n",
    "mp = 0.1\n",
    "mc = 10.0\n",
    "l = 1.0\n",
    "\n",
    "def sigmoid(par, vec):\n",
    "    return 1 / (1 + exp(-1 * np.dot(par, vec)))\n",
    "\n",
    "def validate(val, type):\n",
    "    if type == 'x_dot':\n",
    "        if val <= -10:\n",
    "            return -10\n",
    "        elif val >= 10:\n",
    "            return 10\n",
    "        else:\n",
    "            return val\n",
    "    elif type == 'theta_dot':\n",
    "        if val <= -1 * pi:\n",
    "            return -1 * pi\n",
    "        elif val >= pi:\n",
    "            return pi\n",
    "        else:\n",
    "            return val\n",
    "\n",
    "class CartPole:\n",
    "    def __init__(self):\n",
    "        self.x = 0\n",
    "        self.x_dot = 0\n",
    "        self.theta = 0\n",
    "        self.theta_dot = 0\n",
    "        self.t = 0\n",
    "        \n",
    "    def get_current_state(self):\n",
    "        return np.array([self.x, self.x_dot, self.theta, self.theta_dot, self.t])\n",
    "    \n",
    "    def get_new_state(self, F):\n",
    "        x, x_dot, theta, theta_dot, t = self.x, self.x_dot, self.theta, self.theta_dot, self.t\n",
    "        \n",
    "        expr1 = (-1 * F - mp * l * (theta_dot ** 2) * sin(theta))\n",
    "        theta_doubledot = (g * sin(theta) + cos(theta) * expr1) / (l * (4 / 3 - mp * (cos(theta) ** 2) / (mc + mp)))\n",
    "        \n",
    "        x_doubledot = (F + mp * l * ((theta_dot ** 2) * sin(theta) - theta_doubledot * cos(theta))) / (mc + mp)\n",
    "        \n",
    "        self.theta_dot = validate(theta_dot + 0.02 * theta_doubledot, 'theta_dot')\n",
    "        self.x_dot = validate(x_dot + 0.02 * x_doubledot, 'x_dot')\n",
    "        \n",
    "        self.theta = self.theta + 0.02 * self.theta_dot\n",
    "        self.x = x + 0.02 * self.x_dot\n",
    "        self.t = t + 0.02\n",
    "        \n",
    "        return\n",
    "    \n",
    "    def get_action(self, par):\n",
    "        prob_right = sigmoid(par, self.get_current_state())\n",
    "        \n",
    "        if prob_right > 0.5:\n",
    "            return 10\n",
    "        else:\n",
    "            return -10\n",
    "\n",
    "    def is_legal(self):\n",
    "        if self.x <= -3 or self.x >= 3:\n",
    "            return False\n",
    "        elif self.theta <= -5 * pi / 12 or self.theta >= 5 * pi / 12:\n",
    "            return False\n",
    "        elif self.t >= 20:\n",
    "            return False\n",
    "        return True\n",
    "\n",
    "cart = CartPole()\n",
    "cart.get_new_state(10.0)\n",
    "\n",
    "\n",
    "cart.is_legal()\n"
   ]
  },
  {
   "cell_type": "code",
   "execution_count": 10,
   "id": "34aecaf8",
   "metadata": {},
   "outputs": [
    {
     "data": {
      "image/png": "[encoded data removed]",
      "text/plain": [
       "<Figure size 432x288 with 1 Axes>"
      ]
     },
     "metadata": {
      "needs_background": "light"
     },
     "output_type": "display_data"
    }
   ],
   "source": [
    "def evaluate_policy(par):\n",
    "    cart = CartPole()\n",
    "    reward = 0\n",
    "    while cart.is_legal():\n",
    "        f = cart.get_action(par=par)\n",
    "        cart.get_new_state(f)\n",
    "        reward += 1\n",
    "    return reward\n",
    "\n",
    "# Upto now using code from part (i)\n",
    "\n",
    "eps = 0.2\n",
    "K = 100\n",
    "K_eps = 20\n",
    "\n",
    "param_mean = np.random.normal(0, 1, (5))\n",
    "covar = 2 * np.eye(5)\n",
    "mean_list = [param_mean]\n",
    "covar_list = [covar]\n",
    "gain_list = []\n",
    "\n",
    "for i in range(10):\n",
    "    # Sample 100 policies from Normal(theta0, covar = 2*Identity)\n",
    "    param_k = [np.random.multivariate_normal(param_mean, covar) for _ in range(K)]\n",
    "    \n",
    "    # Evaluate all 100 of them\n",
    "    gain_list = [evaluate_policy(tk) for tk in param_k]\n",
    "    \n",
    "    # Get top 20 performing policies\n",
    "    top_indices = np.argsort(gain_list)[-1:-21:-1]\n",
    "    top_param = [param_k[i] for i in top_indices]\n",
    "    \n",
    "    # The new mean is the mean of these top policies\n",
    "    param_mean = np.mean(top_param, axis=0)\n",
    "    \n",
    "    # Update covar like shown in question\n",
    "    term = np.zeros_like(covar)\n",
    "    for k in range(K_eps):\n",
    "        dev = top_param[k] - param_mean\n",
    "        term += np.outer(dev, dev)\n",
    "        \n",
    "    covar = (eps * covar + term) / (eps + K_eps)\n",
    "    \n",
    "    # Collect updates to check convergence\n",
    "    mean_list.append(param_mean)\n",
    "    covar_list.append(covar)\n",
    "    gain_list.append(np.max(gain_list))\n",
    "\n",
    "mean_norm_list = [np.linalg.norm(mean_list[i] - mean_list[i + 1]) for i in range(len(mean_list) - 1)]\n",
    "covar_norm_list = [np.linalg.norm(covar_list[i] - covar_list[i + 1]) for i in range(len(covar_list) - 1)]\n",
    "\n",
    "plt.title('Norms of Mean vector and Covar Vector')\n",
    "plt.scatter([j + 1 for j in range(len(mean_norm_list))], mean_norm_list, c='blue')\n",
    "plt.scatter([j + 1 for j in range(len(covar_norm_list))], covar_norm_list, c='red')\n",
    "plt.legend(['Mean', 'Covar'])\n",
    "plt.show()\n"
   ]
  },
  {
   "cell_type": "code",
   "execution_count": 11,
   "id": "7176809b",
   "metadata": {},
   "outputs": [
    {
     "name": "stdout",
     "output_type": "stream",
     "text": [
      "1001\n"
     ]
    }
   ],
   "source": [
    "final_reward = evaluate_policy(param_mean)\n",
    "print(final_reward)\n"
   ]
  },
  {
   "cell_type": "code",
   "execution_count": null,
   "id": "a6228714",
   "metadata": {},
   "outputs": [],
   "source": []
  }
 ],
 "metadata": {
  "kernelspec": {
   "display_name": "Python 3 (ipykernel)",
   "language": "python",
   "name": "python3"
  },
  "language_info": {
   "codemirror_mode": {
    "name": "ipython",
    "version": 3
   },
   "file_extension": ".py",
   "mimetype": "text/x-python",
   "name": "python",
   "nbconvert_exporter": "python",
   "pygments_lexer": "ipython3",
   "version": "3.9.12"
  }
 },
 "nbformat": 4,
 "nbformat_minor": 5
}
