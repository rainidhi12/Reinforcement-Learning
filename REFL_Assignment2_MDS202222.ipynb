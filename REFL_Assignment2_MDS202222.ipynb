{
 "cells": [
  {
   "cell_type": "markdown",
   "metadata": {},
   "source": [
    "# Assignment 2\n",
    "\n",
    "## Nidhi \n",
    "\n",
    "### MDS202222\n",
    "\n",
    "#### nidhi@cmi.ac.in"
   ]
  },
  {
   "cell_type": "markdown",
   "metadata": {},
   "source": [
    "# Q1 "
   ]
  },
  {
   "cell_type": "markdown",
   "metadata": {},
   "source": [
    "### Import required libraries"
   ]
  },
  {
   "cell_type": "code",
   "execution_count": 1,
   "metadata": {},
   "outputs": [],
   "source": [
    "import numpy as np\n",
    "import matplotlib.pyplot as plt\n",
    "import time\n",
    "\n"
   ]
  },
  {
   "cell_type": "markdown",
   "metadata": {},
   "source": [
    "### Helper functions"
   ]
  },
  {
   "cell_type": "code",
   "execution_count": 2,
   "metadata": {},
   "outputs": [],
   "source": [
    "def execute_episode(grid_size, target, penalty, obstacles, params, temp, discount):\n",
    "    state = (0, 0)\n",
    "    cum_reward = 0\n",
    "    gamma_power = 1\n",
    "    path, decisions, rewards = [], [], []\n",
    "\n",
    "    while state != target:\n",
    "        path.append(state)\n",
    "        act_probs = [compute_action_prob(state, a, params, temp) for a in range(4)]\n",
    "        chosen_act = np.random.choice(4, p=np.array(act_probs))\n",
    "        \n",
    "        if chosen_act == 0:\n",
    "            action = np.random.choice(4, p=[0.8, 0.1, 0.05, 0.05])\n",
    "        elif chosen_act == 1:\n",
    "            action = np.random.choice(4, p=[0.1, 0.8, 0.05, 0.05])\n",
    "        elif chosen_act == 2:\n",
    "            action = np.random.choice(4, p=[0.05, 0.05, 0.8, 0.1])\n",
    "        else:\n",
    "            action = np.random.choice(4, p=[0.05, 0.05, 0.1, 0.8])\n",
    "        \n",
    "        decisions.append(action)\n",
    "        new_state = transition_state(state, action, grid_size, obstacles)\n",
    "        reward = evaluate_reward(new_state, target, penalty) * gamma_power\n",
    "        rewards.append(reward)\n",
    "        cum_reward += reward\n",
    "        state = new_state\n",
    "        gamma_power *= discount\n",
    "\n",
    "    return cum_reward, path, decisions, rewards\n"
   ]
  },
  {
   "cell_type": "code",
   "execution_count": 3,
   "metadata": {},
   "outputs": [],
   "source": [
    "def compute_action_prob(state, action, params, temp):\n",
    "    exp_vals = np.exp(temp * params[state[0], state[1], action])\n",
    "    sum_exp = np.sum(np.exp(temp * params[state[0], state[1]]))\n",
    "    return exp_vals / sum_exp\n",
    "\n",
    "def transition_state(state, action, grid_size, obstacles):\n",
    "    x, y = state\n",
    "    if action == 0:\n",
    "        x = max(0, x - 1)\n",
    "    elif action == 1:\n",
    "        x = min(grid_size - 1, x + 1)\n",
    "    elif action == 2:\n",
    "        y = max(0, y - 1)\n",
    "    elif action == 3:\n",
    "        y = min(grid_size - 1, y + 1)\n",
    "    return (x, y) if (x, y) not in obstacles else state\n",
    "\n",
    "\n",
    "\n"
   ]
  },
  {
   "cell_type": "code",
   "execution_count": 4,
   "metadata": {},
   "outputs": [],
   "source": [
    "def basic_reinforce(grid_size, target, penalty, obstacles, temp, tol, max_eps, trials, discount, learn_rate):\n",
    "    results = []\n",
    "    for _ in range(trials):\n",
    "        params = np.random.rand(grid_size, grid_size, 4)\n",
    "        gains = []\n",
    "        for ep in range(max_eps):\n",
    "            cum_reward, path, decisions, rewards = execute_episode(grid_size, target, penalty, obstacles, params, temp, discount)\n",
    "            disc_rewards = discount_rewards(rewards, discount)\n",
    "            params = adjust_params(params, path, decisions, disc_rewards, temp, discount, learn_rate)\n",
    "            gains.append(cum_reward)\n",
    "            if ep > 0 and abs(gains[-1] - gains[-2]) < tol:\n",
    "                break\n",
    "        results.append(gains)\n",
    "    avg_gain, err = process_results(results, discount)\n",
    "    return avg_gain, err\n",
    "\n",
    "def enhance_reinforce(grid_size, target, penalty, obstacles, temp, tol, max_eps, trials, discount, learn_rate, baseline_weight, lam, value_weight_alpha):\n",
    "    results = []\n",
    "    for _ in range(trials):\n",
    "        params = np.random.rand(grid_size, grid_size, 4)\n",
    "        baseline_weights = np.random.rand(grid_size, grid_size, 4)\n",
    "        gains = []\n",
    "        for ep in range(max_eps):\n",
    "            cum_reward, path, decisions, rewards = execute_episode(grid_size, target, penalty, obstacles, params, temp, discount)\n",
    "            disc_rewards = discount_rewards(rewards, discount)\n",
    "            params, baseline_weights = adjust_baseline_params(params, baseline_weights, path, decisions, disc_rewards, rewards, temp, discount, learn_rate, lam, value_weight_alpha)\n",
    "            gains.append(cum_reward)\n",
    "            if ep > 0 and abs(gains[-1] - gains[-2]) < tol:\n",
    "                break\n",
    "        results.append(gains)\n",
    "    avg_gain, err = process_results(results, discount)\n",
    "    return avg_gain, err\n",
    "\n"
   ]
  },
  {
   "cell_type": "code",
   "execution_count": 5,
   "metadata": {},
   "outputs": [],
   "source": [
    "def evaluate_reward(state, target, penalty):\n",
    "    if state == target:\n",
    "        return 10\n",
    "    elif state == penalty:\n",
    "        return -10\n",
    "    else:\n",
    "        return 0\n",
    "def discount_rewards(rewards, discount):\n",
    "    disc_rewards = np.zeros_like(rewards)\n",
    "    total = 0\n",
    "    for t in reversed(range(len(rewards))):\n",
    "        total = total * discount + rewards[t]\n",
    "        disc_rewards[t] = total\n",
    "    return disc_rewards"
   ]
  },
  {
   "cell_type": "code",
   "execution_count": 6,
   "metadata": {},
   "outputs": [],
   "source": [
    "def adjust_baseline_params(params, baseline_weights, path, decisions, disc_rewards, rewards, temp, discount, learn_rate, lam, value_weight_alpha):\n",
    "    grad_params = np.zeros_like(params)\n",
    "    grad_baseline = np.zeros_like(baseline_weights)\n",
    "    for t in range(len(path) - 1):\n",
    "        state = path[t]\n",
    "        action = decisions[t]\n",
    "        G_t = disc_rewards[t]\n",
    "        prob = compute_action_prob(state, action, params, temp)\n",
    "        perturbed_params = np.copy(params)\n",
    "        perturbed_params[state[0], state[1], action] += 0.001\n",
    "        prob_perturbed = compute_action_prob(state, action, perturbed_params, temp)\n",
    "        grad_log_prob = (np.log(prob_perturbed) - np.log(prob)) / 0.001\n",
    "        v_w = np.sum(baseline_weights[state[0], state[1]])\n",
    "        delta = rewards[t] + discount * np.sum(baseline_weights[path[t+1][0], path[t+1][1]]) - v_w\n",
    "        grad_baseline_state = np.zeros_like(baseline_weights)\n",
    "        grad_baseline_state[state[0], state[1], action] = 1\n",
    "        grad_baseline = discount * lam * grad_baseline + grad_baseline_state\n",
    "        params += learn_rate * (discount ** t) * (G_t - v_w) * grad_log_prob\n",
    "        baseline_weights += value_weight_alpha * delta * grad_baseline\n",
    "    return params, baseline_weights"
   ]
  },
  {
   "cell_type": "code",
   "execution_count": 7,
   "metadata": {},
   "outputs": [],
   "source": [
    "def adjust_params(params, path, decisions, disc_rewards, temp, discount, learn_rate):\n",
    "    grad_params = np.zeros_like(params)\n",
    "    for t in range(len(path)):\n",
    "        state = path[t]\n",
    "        action = decisions[t]\n",
    "        G_t = disc_rewards[t]\n",
    "        prob = compute_action_prob(state, action, params, temp)\n",
    "        perturbed_params = np.copy(params)\n",
    "        perturbed_params[state[0], state[1], action] += 0.001\n",
    "        prob_perturbed = compute_action_prob(state, action, perturbed_params, temp)\n",
    "        grad_log_prob = (np.log(prob_perturbed) - np.log(prob)) / 0.001\n",
    "        grad_params[state[0], state[1], action] += (discount ** t) * G_t * grad_log_prob\n",
    "    params += learn_rate * grad_params\n",
    "    return params\n",
    "\n",
    "\n",
    "\n"
   ]
  },
  {
   "cell_type": "code",
   "execution_count": 8,
   "metadata": {},
   "outputs": [],
   "source": [
    "def process_results(results, discount):\n",
    "    max_length = max(len(result) for result in results)\n",
    "    padded_results = np.array([result + [10 * (discount ** k)] * (max_length - len(result)) for k, result in enumerate(results)])\n",
    "    avg_gain = np.mean(padded_results, axis=0)\n",
    "    err = np.std(padded_results, axis=0) / np.sqrt(len(results))\n",
    "    return avg_gain, err\n",
    "\n"
   ]
  },
  {
   "cell_type": "markdown",
   "metadata": {},
   "source": [
    "### Hyperparameters"
   ]
  },
  {
   "cell_type": "code",
   "execution_count": 9,
   "metadata": {},
   "outputs": [],
   "source": [
    "grid_size = 5\n",
    "goal = (4, 4)\n",
    "water = (4, 2)\n",
    "obstacles = [(2, 2), (3, 2)]\n",
    "sigma = 0.1\n",
    "epsilon = 0.001\n",
    "max_episodes = 100\n",
    "num_trials = 300\n",
    "gamma = 0.9\n",
    "alpha = 0.1\n",
    "\n"
   ]
  },
  {
   "cell_type": "markdown",
   "metadata": {},
   "source": [
    "###  Timing the execution of a smaller portion\n"
   ]
  },
  {
   "cell_type": "code",
   "execution_count": 10,
   "metadata": {},
   "outputs": [],
   "source": [
    "start_time = time.time()\n",
    "\n",
    "# Run a small portion of the code to estimate time\n",
    "sample_trials = 10\n",
    "sample_episodes = 10\n",
    "basic_reinforce(grid_size, goal, water, obstacles, sigma, epsilon, sample_episodes, sample_trials, gamma, alpha)\n",
    "enhance_reinforce(grid_size, goal, water, obstacles, sigma, epsilon, sample_episodes, sample_trials, gamma, alpha, 0.1, 0.1, 0.1)\n",
    "\n",
    "end_time = time.time()\n",
    "elapsed_time = end_time - start_time\n",
    "\n"
   ]
  },
  {
   "cell_type": "code",
   "execution_count": 11,
   "metadata": {},
   "outputs": [
    {
     "name": "stdout",
     "output_type": "stream",
     "text": [
      "Estimated total execution time: 633.01 seconds\n"
     ]
    }
   ],
   "source": [
    "# Estimate total time\n",
    "estimated_total_time = elapsed_time * (num_trials / sample_trials) * (max_episodes / sample_episodes)\n",
    "print(f\"Estimated total execution time: {estimated_total_time:.2f} seconds\")\n",
    "\n"
   ]
  },
  {
   "cell_type": "markdown",
   "metadata": {},
   "source": [
    "### Execute algorithms\n"
   ]
  },
  {
   "cell_type": "code",
   "execution_count": 12,
   "metadata": {},
   "outputs": [],
   "source": [
    "# Execute algorithms\n",
    "avg_gain_basic, err_basic = basic_reinforce(grid_size, goal, water, obstacles, sigma, epsilon, max_episodes, num_trials, gamma, alpha)\n",
    "avg_gain_enhanced, err_enhanced = enhance_reinforce(grid_size, goal, water, obstacles, sigma, epsilon, max_episodes, num_trials, gamma, alpha, 0.1, 0.1, 0.1)\n",
    "\n"
   ]
  },
  {
   "cell_type": "markdown",
   "metadata": {},
   "source": [
    "### Plotting results\n"
   ]
  },
  {
   "cell_type": "code",
   "execution_count": 13,
   "metadata": {},
   "outputs": [
    {
     "data": {
      "image/png": "[encoded data removed]",
      "text/plain": [
       "<Figure size 432x288 with 1 Axes>"
      ]
     },
     "metadata": {
      "needs_background": "light"
     },
     "output_type": "display_data"
    }
   ],
   "source": [
    "episodes_range = range(1, len(avg_gain_basic) + 1)\n",
    "plt.errorbar(episodes_range, avg_gain_basic, yerr=err_basic, label='REINFORCE', ecolor='orange')\n",
    "plt.xlabel('Episodes')\n",
    "plt.ylabel('Average Gain')\n",
    "plt.title('Learning curve using REINFORCE')\n",
    "plt.legend()\n",
    "plt.show()\n",
    "\n"
   ]
  },
  {
   "cell_type": "code",
   "execution_count": 14,
   "metadata": {},
   "outputs": [
    {
     "data": {
      "image/png": "[encoded data removed]",
      "text/plain": [
       "<Figure size 432x288 with 1 Axes>"
      ]
     },
     "metadata": {
      "needs_background": "light"
     },
     "output_type": "display_data"
    }
   ],
   "source": [
    "plt.errorbar(range(len(avg_gain_enhanced)), avg_gain_enhanced, yerr=err_enhanced, label='Baseline REINFORCE', ecolor='orange')\n",
    "plt.xlabel('Episodes')\n",
    "plt.ylabel('Average Gain')\n",
    "plt.title('Learning curve using Baseline REINFORCE')\n",
    "plt.legend()\n",
    "plt.show()\n",
    "\n"
   ]
  },
  {
   "cell_type": "code",
   "execution_count": 15,
   "metadata": {},
   "outputs": [
    {
     "data": {
      "image/png": "[encoded data removed]",
      "text/plain": [
       "<Figure size 432x288 with 1 Axes>"
      ]
     },
     "metadata": {
      "needs_background": "light"
     },
     "output_type": "display_data"
    }
   ],
   "source": [
    "plt.errorbar(episodes_range, avg_gain_basic, yerr=err_basic, label='REINFORCE')\n",
    "plt.errorbar(range(len(avg_gain_enhanced)), avg_gain_enhanced, yerr=err_enhanced, label='Baseline REINFORCE')\n",
    "plt.xlabel('Episodes')\n",
    "plt.ylabel('Average Gain')\n",
    "plt.title('Learning curve comparison between REINFORCE and Baseline REINFORCE')\n",
    "plt.legend()\n",
    "plt.show()"
   ]
  },
  {
   "cell_type": "markdown",
   "metadata": {},
   "source": [
    "# Q2"
   ]
  },
  {
   "cell_type": "code",
   "execution_count": 16,
   "metadata": {},
   "outputs": [],
   "source": [
    "def cartpole_dynamics(state, action):\n",
    "    g = 9.8\n",
    "    mass_cart = 1.0\n",
    "    mass_pole = 0.1\n",
    "    force_magnitude = 10.0\n",
    "    time_step = 0.001\n",
    "    pole_length = 1.0\n",
    "    x, v, theta, theta_dot = state\n",
    "    force = force_magnitude if action == 1 else -force_magnitude\n",
    "    costheta = np.cos(theta)\n",
    "    sintheta = np.sin(theta)\n",
    "    temp = (force + mass_pole * pole_length * theta_dot**2 * sintheta) / (mass_cart + mass_pole)\n",
    "    theta_acc = (g * sintheta - costheta * temp) / (pole_length * (4/3 - mass_pole * costheta**2 / (mass_cart + mass_pole)))\n",
    "    x_acc = temp - mass_pole * pole_length * theta_acc * costheta / (mass_cart + mass_pole)\n",
    "    \n",
    "    x += time_step * v\n",
    "    v += time_step * x_acc\n",
    "    theta += time_step * theta_dot\n",
    "    theta_dot += time_step * theta_acc\n",
    "    \n",
    "    return (x, v, theta, theta_dot)\n"
   ]
  },
  {
   "cell_type": "code",
   "execution_count": 17,
   "metadata": {},
   "outputs": [],
   "source": [
    "def policy(state, params):\n",
    "    return 1 / (1 + np.exp(-np.dot(params, state)))\n",
    "\n",
    "\n",
    "\n",
    "def vanilla_reinforce(episodes, learning_rate, policy_params_step, discount_factor):\n",
    "    params = np.random.rand(4)\n",
    "    episode_rewards = []\n",
    "    \n",
    "    for episode in range(episodes):\n",
    "        state_sequence, action_sequence, reward_sequence = run_episode(params)\n",
    "        total_episode_reward = sum(reward_sequence)\n",
    "        episode_rewards.append(total_episode_reward)\n",
    "        \n",
    "        grad_params = np.zeros_like(params)\n",
    "        for t in range(len(state_sequence)):\n",
    "            state = np.array(state_sequence[t])\n",
    "            action = action_sequence[t]\n",
    "            action_prob = policy(state, params)\n",
    "            Gt = sum(reward_sequence[t:])\n",
    "            grad_log_policy = (policy(state, params) - action_prob) * state\n",
    "            grad_params += (discount_factor ** t) * Gt * grad_log_policy\n",
    "        \n",
    "        params += learning_rate * grad_params\n",
    "        \n",
    "    return episode_rewards\n"
   ]
  },
  {
   "cell_type": "code",
   "execution_count": 18,
   "metadata": {},
   "outputs": [],
   "source": [
    "def value_function(state, value_params):\n",
    "    return np.dot(state, value_params)\n",
    "\n",
    "def baseline_reinforce(episodes, learning_rate_theta, learning_rate_value, discount_factor, lambda_factor, policy_params_step, value_params_step):\n",
    "    policy_params = np.random.rand(4)\n",
    "    value_params = np.random.rand(4)\n",
    "    episode_rewards = []\n",
    "    \n",
    "    for episode in range(episodes):\n",
    "        state_sequence, action_sequence, reward_sequence = run_episode(policy_params)\n",
    "        total_episode_reward = sum(reward_sequence)\n",
    "        episode_rewards.append(total_episode_reward)\n",
    "        \n",
    "        grad_policy_params = np.zeros_like(policy_params)\n",
    "        eligibility_trace = np.zeros_like(value_params)\n",
    "        for t in range(len(state_sequence)):\n",
    "            state = np.array(state_sequence[t])\n",
    "            action = action_sequence[t]\n",
    "            action_prob = policy(state, policy_params)\n",
    "            Gt = sum(reward_sequence[t:])\n",
    "            grad_log_policy = (policy(state, policy_params) - action_prob) * state\n",
    "            grad_policy_params += (discount_factor ** t) * Gt * grad_log_policy\n",
    "            \n",
    "            grad_value = (value_function(state, value_params + value_params_step) - value_function(state, value_params)) / value_params_step\n",
    "            eligibility_trace = discount_factor * lambda_factor * eligibility_trace + grad_value\n",
    "        \n",
    "        delta = Gt + discount_factor * value_function(state_sequence[-1], value_params) - value_function(state_sequence[0], value_params)\n",
    "        value_params += learning_rate_value * delta * eligibility_trace\n",
    "        policy_params += learning_rate_theta * grad_policy_params\n",
    "    \n",
    "    return episode_rewards\n",
    "\n"
   ]
  },
  {
   "cell_type": "code",
   "execution_count": 19,
   "metadata": {},
   "outputs": [],
   "source": [
    "def run_episode(params):\n",
    "    state = np.array([0, 0, 0, 0])\n",
    "    total_reward = 0\n",
    "    state_sequence = []\n",
    "    action_sequence = []\n",
    "    reward_sequence = []\n",
    "    \n",
    "    for _ in range(2000):\n",
    "        state_sequence.append(state)\n",
    "        action_prob = policy(state, params)\n",
    "        action = 1 if np.random.rand() < action_prob else 0\n",
    "        action_sequence.append(action)\n",
    "        new_state = cartpole_dynamics(state, action)\n",
    "        if abs(new_state[2]) > 5 * np.pi / 12 or abs(new_state[0]) > 3:\n",
    "            break\n",
    "        reward_sequence.append(np.cos(new_state[2]))\n",
    "        state = new_state\n",
    "        total_reward += 1\n",
    "    \n",
    "    return state_sequence, action_sequence, reward_sequence\n"
   ]
  },
  {
   "cell_type": "code",
   "execution_count": 20,
   "metadata": {},
   "outputs": [],
   "source": [
    "def plot_individual_rewards(reinforce_rewards, baseline_rewards):\n",
    "    episodes = range(1, len(reinforce_rewards) + 1)\n",
    "    mean_reinforce = np.mean(reinforce_rewards)\n",
    "    std_reinforce = np.std(reinforce_rewards)\n",
    "    plt.errorbar(episodes, reinforce_rewards, yerr=std_reinforce, label='REINFORCE', ecolor='orange')\n",
    "    plt.xlabel('Episodes')\n",
    "    plt.ylabel('Gain')\n",
    "    plt.title('REINFORCE Algorithm')\n",
    "    plt.legend()\n",
    "    plt.show()\n",
    "\n",
    "    episodes = range(1, len(baseline_rewards) + 1)\n",
    "    mean_baseline = np.mean(baseline_rewards)\n",
    "    std_baseline = np.std(baseline_rewards)\n",
    "    plt.errorbar(episodes, baseline_rewards, yerr=std_baseline, label='Baseline REINFORCE', ecolor='orange')\n",
    "    plt.xlabel('Episodes')\n",
    "    plt.ylabel('Gain')\n",
    "    plt.title('Baseline REINFORCE Algorithm')\n",
    "    plt.legend()\n",
    "    plt.show()\n",
    "\n",
    "def plot_comparison_rewards(reinforce_rewards, baseline_rewards):\n",
    "    episodes_reinforce = range(1, len(reinforce_rewards) + 1)\n",
    "    mean_reinforce = np.mean(reinforce_rewards)\n",
    "    std_reinforce = np.std(reinforce_rewards)\n",
    "    episodes_baseline = range(1, len(baseline_rewards) + 1)\n",
    "    mean_baseline = np.mean(baseline_rewards)\n",
    "    std_baseline = np.std(baseline_rewards)\n",
    "    plt.errorbar(episodes_reinforce, reinforce_rewards, yerr=std_reinforce, label='REINFORCE')\n",
    "    plt.errorbar(episodes_baseline, baseline_rewards, yerr=std_baseline, label='Baseline REINFORCE')\n",
    "    plt.xlabel('Episodes')\n",
    "    plt.ylabel('Gain')\n",
    "    plt.title('Comparison of REINFORCE and Baseline REINFORCE Algorithms')\n",
    "    plt.legend()\n",
    "    plt.show()\n",
    "\n"
   ]
  },
  {
   "cell_type": "markdown",
   "metadata": {},
   "source": [
    "### Hyperparameters\n"
   ]
  },
  {
   "cell_type": "code",
   "execution_count": 21,
   "metadata": {},
   "outputs": [],
   "source": [
    "num_episodes = 1000\n",
    "alpha = 0.1\n",
    "beta = 0.1\n",
    "gamma = 0.9\n",
    "lambda_factor = 0.9\n",
    "delta_theta = 0.001\n",
    "delta_value_params = 0.001\n",
    "\n"
   ]
  },
  {
   "cell_type": "markdown",
   "metadata": {},
   "source": [
    "### Execute REINFORCE algorithm\n"
   ]
  },
  {
   "cell_type": "code",
   "execution_count": 22,
   "metadata": {},
   "outputs": [],
   "source": [
    "reinforce_results = vanilla_reinforce(num_episodes, alpha, delta_theta, gamma)"
   ]
  },
  {
   "cell_type": "markdown",
   "metadata": {},
   "source": [
    "### Execute Baseline REINFORCE algorithm\n"
   ]
  },
  {
   "cell_type": "code",
   "execution_count": null,
   "metadata": {},
   "outputs": [],
   "source": [
    "baseline_results = baseline_reinforce(num_episodes, alpha, beta, gamma, lambda_factor, delta_theta, delta_value_params)"
   ]
  },
  {
   "cell_type": "markdown",
   "metadata": {},
   "source": [
    "### Plot results\n"
   ]
  },
  {
   "cell_type": "code",
   "execution_count": null,
   "metadata": {},
   "outputs": [],
   "source": [
    "# Plot results\n",
    "plot_individual_rewards(reinforce_results, baseline_results)\n",
    "plot_comparison_rewards(reinforce_results, baseline_results)\n"
   ]
  },
  {
   "cell_type": "markdown",
   "metadata": {},
   "source": [
    "## Q1\n",
    "\n",
    "### Policy Representation - Softmax\n",
    "The policy for choosing action $( a $) in state $( s $) is given by:\n",
    "$[ \n",
    "\\pi(s, a) = \\frac{e^{\\sigma \\cdot \\theta_{s_1, s_2, a}}}{\\sum_{a'} e^{\\sigma \\cdot \\theta_{s_1, s_2, a'}}} \n",
    "$]\n",
    "\n",
    "### Hyperparameters\n",
    "- **σ = 0.1**: Controls exploration versus stability. Higher values increase exploration but reduce stability.\n",
    "- **ϵ = 0.001**: Learning rate. Higher values slow down learning, while lower values increase training time.\n",
    "- **maxep = 100**: Maximum number of episodes. More episodes lead to better learning but require more computation.\n",
    "- **numtrails = 300**: Number of trials. More trials improve learning but increase computation time.\n",
    "- **γ = 0.9**: Discount factor for future rewards. Higher values make the agent consider future rewards more heavily.\n",
    "- **α, β, λ, vwα = 0.1**: Learning rates for the baseline reinforce algorithm.\n",
    "\n",
    "## Q2\n",
    "\n",
    "### Policy Representation - Sigmoid\n",
    "The policy for choosing action $( a $) in state $( s $) is given by:\n",
    "$[ \n",
    "\\pi(s, a) = \\frac{1}{1 + e^{-\\sum_{t=1}^{4} t_i \\cdot s_i}} \n",
    "$]\n",
    "\n",
    "### Cart-Pole Problem Parameters\n",
    "- **g = 9.8**: Acceleration due to gravity (m/s²).\n",
    "- **mc = 1**: Mass of the cart (kg).\n",
    "- **mp = 0.1**: Mass of the pole (kg).\n",
    "- **F = 10**: Initial force applied (N).\n",
    "- **dt = 0.001**: Time interval for derivative approximation (s).\n",
    "\n",
    "### Learning Hyperparameters\n",
    "- **num_episodes = 100**: Number of episodes. More episodes enhance learning but require more computation time.\n",
    "- **γ, λ = 0.9**: Discount factor for future rewards. Higher values make the agent prioritize future rewards.\n",
    "- **α, β = 0.1**: Learning rates. Higher rates speed up learning but may decrease accuracy.\n",
    "- **delta_theta, delta_w = 0.001**: Step sizes for derivative approximations. Smaller values lead to more accurate approximations but increase running time.\n"
   ]
  },
  {
   "cell_type": "code",
   "execution_count": null,
   "metadata": {},
   "outputs": [],
   "source": []
  }
 ],
 "metadata": {
  "colab": {
   "provenance": [],
   "toc_visible": true
  },
  "kernelspec": {
   "display_name": "Python 3 (ipykernel)",
   "language": "python",
   "name": "python3"
  },
  "language_info": {
   "codemirror_mode": {
    "name": "ipython",
    "version": 3
   },
   "file_extension": ".py",
   "mimetype": "text/x-python",
   "name": "python",
   "nbconvert_exporter": "python",
   "pygments_lexer": "ipython3",
   "version": "3.9.12"
  }
 },
 "nbformat": 4,
 "nbformat_minor": 1
}
